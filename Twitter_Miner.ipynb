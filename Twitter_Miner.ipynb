{
 "cells": [
  {
   "cell_type": "code",
   "execution_count": null,
   "metadata": {},
   "outputs": [],
   "source": [
    "##importing the libraries\n",
    "import tweepy           # To consume Twitter's API\n",
    "import pandas as pd     # To handle data\n",
    "import numpy as np      # For number computing\n",
    "\n",
    "# For plotting and visualization:\n",
    "from IPython.display import display\n",
    "import matplotlib.pyplot as plt\n",
    "import seaborn as sns\n",
    "%matplotlib inline\n",
    "\n",
    "##creating out twitter app\n",
    "\n",
    "# Consume:\n",
    "CONSUMER_KEY    = 'vo4MvfhmkVn7XOwOGN68X8n6H'\n",
    "CONSUMER_SECRET = 'BeT8mbt9CRfH6dWFuAYbIbzHezJ9jNSghMaPS9eEgC97rWcuZJ'\n",
    "\n",
    "# Access:\n",
    "ACCESS_TOKEN  = '3289735469-2cfN0i3v535CStJPttKGwAktJHh3EbGfJqZf1kx'\n",
    "ACCESS_SECRET = 'uTlXVWsU86eKj0VpdDOnGGfBbXp3qMYVJjJDX1hjKIcYo'"
   ]
  },
  {
   "cell_type": "code",
   "execution_count": null,
   "metadata": {},
   "outputs": [],
   "source": [
    "auth = tweepy.OAuthHandler(CONSUMER_KEY, CONSUMER_SECRET)\n",
    "auth.set_access_token(ACCESS_TOKEN, ACCESS_SECRET)\n",
    "api = tweepy.API(auth)"
   ]
  },
  {
   "cell_type": "code",
   "execution_count": null,
   "metadata": {},
   "outputs": [],
   "source": [
    "# Text Cleansing Function\n",
    "import re\n",
    "def my_preprocessor(mytext):\n",
    "    #Convert to lower case\n",
    "    mytext = mytext.lower()\n",
    "    #Convert www.* or https?://* to URL\n",
    "    mytext = re.sub('((www\\.[^\\s]+)|(https?://[^\\s]+))','URL',mytext) \n",
    "    #Convert @username to AT_USER\n",
    "    mytext = re.sub('@[^\\s]+','AT_USER',mytext)\n",
    "    #Remove additional white spaces\n",
    "    mytext = re.sub('[\\s]+', ' ', mytext)\n",
    "    #Replace #word with word\n",
    "    mytext = re.sub(r'#([^\\s]+)', r'\\1',mytext)\n",
    "    #trim\n",
    "    mytext = mytext.strip('\\'\"')\n",
    "    return mytext"
   ]
  },
  {
   "cell_type": "code",
   "execution_count": null,
   "metadata": {},
   "outputs": [],
   "source": [
    "import time\n",
    "\n",
    "from numpy import place, result_type\n",
    "from psutil import users\n",
    "tweets=[]\n",
    "Date=[]\n",
    "teks=[]\n",
    "Id=[]\n",
    "sn=[]\n",
    "source=[]\n",
    "rtc=[]\n",
    "search = \"Ugali -filter:retweets\"\n",
    "geoc = \"-0.023559, 37.906193\"\n",
    "location =[]\n",
    "loc = \n",
    "# Helper function for handling pagination in our search and handle rate limits\n",
    "def limit_handled(cursor):\n",
    "    while True:\n",
    "        try:\n",
    "            yield cursor.next() ##for fetching records from Tweets\n",
    "        except tweepy.RateLimitError:\n",
    "            print('Reached rate limit. Sleeping for >15 minutes') ##detecting when the rate limit has been reached\n",
    "            ##adding delays to the code\n",
    "            time.sleep(15 * 61)\n",
    "        except StopIteration:\n",
    "            break\n",
    "\n",
    "tweets = tweepy.Cursor(api.search_tweets,\n",
    "                           q = search,\n",
    "                           tweet_mode='extended',\n",
    "                        #    geo_code=geoc, \n",
    "                           lang = \"en\",\n",
    "                           result_type = \"recent\").items(2000)\n",
    "for tweet in tweets:\n",
    "    if not tweet : \n",
    "        print('just another thing')\n",
    "        break\n",
    "    if (not tweet.retweeted) and ('RT @' not in tweet.full_text):\n",
    "        print(tweet.created_at, tweet.full_text)\n",
    "        \n",
    "        location.append(tweet.user.location) \n",
    "        teks.append(tweet.full_text)\n",
    "        Id.append(tweet.id)\n",
    "        sn.append(tweet.user.screen_name)\n",
    "        source.append(tweet.source)\n",
    "        rtc.append(tweet.retweet_count)\n",
    "\n"
   ]
  },
  {
   "cell_type": "code",
   "execution_count": null,
   "metadata": {},
   "outputs": [],
   "source": [
    "data = pd.DataFrame()\n",
    "data['DT'] = Date\n",
    "data['Tweets'] = teks\n",
    "data['ID'] = Id\n",
    "data['Screen Name'] = sn\n",
    "data['Retweet'] = rtc\n",
    "data['Source'] = source\n",
    "data['Location']= \n",
    "data"
   ]
  },
  {
   "cell_type": "code",
   "execution_count": null,
   "metadata": {},
   "outputs": [],
   "source": [
    "# determining the name of the file\n",
    "data['DT']= data['DT'].apply(lambda a: pd.to_datetime(a).date())\n",
    "#the .date() is meant to remove timezones\n",
    "\n",
    "\n",
    "file_name = 'Ugali_2022Data.xlsx'\n",
    "\n",
    "data.to_excel(file_name)"
   ]
  },
  {
   "cell_type": "code",
   "execution_count": null,
   "metadata": {},
   "outputs": [],
   "source": [
    "os.listdir()"
   ]
  },
  {
   "cell_type": "code",
   "execution_count": null,
   "metadata": {},
   "outputs": [],
   "source": [
    "users_locs = [[tweet.full_text, tweet.user.location, tweet.place] for tweet in tweets]\n",
    "users_locs"
   ]
  },
  {
   "cell_type": "code",
   "execution_count": null,
   "metadata": {},
   "outputs": [],
   "source": [
    "#Polarity marker\n",
    "def polarity_check(x):\n",
    "    if x > 0:\n",
    "        return \"Positif\"\n",
    "    elif x < 0:\n",
    "        return \"Negatif\"\n",
    "    else:\n",
    "        return \"Netral\""
   ]
  },
  {
   "cell_type": "code",
   "execution_count": null,
   "metadata": {},
   "outputs": [],
   "source": [
    "#data = pd.DataFrame(data=[tweet.text for tweet in tweets], columns=['User','Tweets'])\n",
    "#display(data.head(10))\n",
    "\n",
    "file = data['Tweets'].tolist()"
   ]
  },
  {
   "cell_type": "markdown",
   "metadata": {},
   "source": [
    "Work In progress"
   ]
  },
  {
   "cell_type": "code",
   "execution_count": null,
   "metadata": {},
   "outputs": [],
   "source": []
  }
 ],
 "metadata": {
  "kernelspec": {
   "display_name": "Python 3.7.10 ('Air_BnB_Data_analysis')",
   "language": "python",
   "name": "python3"
  },
  "language_info": {
   "codemirror_mode": {
    "name": "ipython",
    "version": 3
   },
   "file_extension": ".py",
   "mimetype": "text/x-python",
   "name": "python",
   "nbconvert_exporter": "python",
   "pygments_lexer": "ipython3",
   "version": "3.7.10"
  },
  "orig_nbformat": 4,
  "vscode": {
   "interpreter": {
    "hash": "486b9a9689ba9127729a9a01942f5dde0895bc7a25fc0e956ed41742074b963f"
   }
  }
 },
 "nbformat": 4,
 "nbformat_minor": 2
}

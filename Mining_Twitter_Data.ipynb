{
 "cells": [
  {
   "cell_type": "code",
   "execution_count": null,
   "metadata": {},
   "outputs": [],
   "source": [
    "import tweepy\n",
    "import time\n",
    "\n",
    "# Add Twitter API key and secret\n",
    "consumer_key = \"6ukRvXNGWz5DMBB92dP5ut2dw\"\n",
    "consumer_secret = \"5lqHCBNCTEiSzkWuWnmpai1FvPg08Tyrgq8AXJNPdjDoEjeGQH\"\n",
    "\n",
    "# Handling authentication with Twitter\n",
    "auth = tweepy.AppAuthHandler(consumer_key, consumer_secret)\n",
    "\n",
    "# Create a wrapper for the Twitter API\n",
    "api = tweepy.API(auth)"
   ]
  },
  {
   "cell_type": "code",
   "execution_count": null,
   "metadata": {},
   "outputs": [],
   "source": [
    "# Helper function for handling pagination in our search and handle rate limits\n",
    "def limit_handled(cursor):\n",
    "    while True:\n",
    "        try:\n",
    "            yield cursor.next()\n",
    "        except tweepy.TooManyRequests:\n",
    "            print('Reached rate limite. Sleeping for >15 minutes')\n",
    "            time.sleep(15 * 61)\n",
    "        except StopIteration:\n",
    "            break\n",
    "\n",
    "# Define the term we will be using for searching tweets\n",
    "query = '#ElectionsKe2022'\n",
    "query = query + ' -filter:retweets'\n",
    "\n",
    "# Define how many tweets to get from the Twitter API \n",
    "count = 1000\n",
    "\n",
    "# Search for tweets using Tweepy \n",
    "search = limit_handled(tweepy.Cursor(api.search_tweets,\n",
    "                        q=query,\n",
    "                        tweet_mode='extended',\n",
    "                        lang='en',\n",
    "                        result_type=\"recent\").items(count))\n",
    "\n",
    "# Process the results from the search using Tweepy\n",
    "tweets = []\n",
    "for result in search:\n",
    "    tweet_content = result.full_text\n",
    "    # Only saving the tweet content. \n",
    "    # You could also save other attributes for each tweet like date or # of RTs.\n",
    "    tweets.append(tweet_content)"
   ]
  },
  {
   "cell_type": "code",
   "execution_count": null,
   "metadata": {},
   "outputs": [],
   "source": [
    "import requests\n",
    "\n",
    "\n",
    "# Set up the API call to the Inference API to do sentiment analysis\n",
    "model = \"cardiffnlp/twitter-roberta-base-sentiment-latest\"\n",
    "hf_token = \"XXXXX\"\n",
    "API_URL = \"https://api-inference.huggingface.co/models/\" + model\n",
    "headers = {\"Authorization\": \"Bearer %s\" % (hf_token)}\n",
    "\n",
    "def analysis(data):\n",
    "    payload = dict(inputs=data, options=dict(wait_for_model=True))\n",
    "    response = requests.post(API_URL, headers=headers, json=payload)\n",
    "    return response.json()\n",
    "\n",
    "# Let's run the sentiment analysis on each tweet\n",
    "tweets_analysis = []\n",
    "for tweet in tweets:\n",
    "    try:\n",
    "        sentiment_result = analysis(tweet)[0]\n",
    "        top_sentiment = max(sentiment_result, key=lambda x: x['score']) # Get the sentiment with the higher score     \n",
    "        tweets_analysis.append({'tweet': tweet, 'sentiment': top_sentiment['label']})\n",
    "\n",
    "    except Exception as e: \n",
    "        print(e)"
   ]
  },
  {
   "cell_type": "code",
   "execution_count": null,
   "metadata": {},
   "outputs": [],
   "source": [
    "import pandas as pd\n",
    "\n",
    "# Load the data in a dataframe\n",
    "pd.set_option('max_colwidth', None)\n",
    "pd.set_option('display.width', 3000) \n",
    "df = pd.DataFrame(tweets_analysis)\n",
    "\n",
    "# Show a tweet for each sentiment \n",
    "display(df[df[\"sentiment\"] == 'Positive'].head(1))\n",
    "display(df[df[\"sentiment\"] == 'Neutral'].head(1))\n",
    "display(df[df[\"sentiment\"] == 'Negative'].head(1))"
   ]
  },
  {
   "cell_type": "code",
   "execution_count": null,
   "metadata": {},
   "outputs": [],
   "source": [
    "import matplotlib.pyplot as plt\n",
    "\n",
    "# Let's count the number of tweets by sentiments\n",
    "sentiment_counts = df.groupby(['sentiment']).size()\n",
    "print(sentiment_counts)\n",
    "\n",
    "# Let's visualize the sentiments\n",
    "fig = plt.figure(figsize=(6,6), dpi=100)\n",
    "ax = plt.subplot(111)\n",
    "sentiment_counts.plot.pie(ax=ax, autopct='%1.1f%%', startangle=270, fontsize=12, label=\"\")"
   ]
  },
  {
   "cell_type": "code",
   "execution_count": null,
   "metadata": {},
   "outputs": [],
   "source": [
    "from wordcloud import WordCloud\n",
    "from wordcloud import STOPWORDS\n",
    "\n",
    "# Wordcloud with positive tweets\n",
    "positive_tweets = df['tweet'][df[\"sentiment\"] == 'Positive']\n",
    "stop_words = [\"https\", \"co\", \"RT\"] + list(STOPWORDS)\n",
    "positive_wordcloud = WordCloud(max_font_size=50, max_words=50, background_color=\"white\", stopwords = stop_words).generate(str(positive_tweets))\n",
    "plt.figure()\n",
    "plt.title(\"Positive Tweets - Wordcloud\")\n",
    "plt.imshow(positive_wordcloud, interpolation=\"bilinear\")\n",
    "plt.axis(\"off\")\n",
    "plt.show()\n",
    "\n",
    "# Wordcloud with negative tweets\n",
    "negative_tweets = df['tweet'][df[\"sentiment\"] == 'Negative']\n",
    "stop_words = [\"https\", \"co\", \"RT\"] + list(STOPWORDS)\n",
    "negative_wordcloud = WordCloud(max_font_size=50, max_words=50, background_color=\"white\", stopwords = stop_words).generate(str(negative_tweets))\n",
    "plt.figure()\n",
    "plt.title(\"Negative Tweets - Wordcloud\")\n",
    "plt.imshow(negative_wordcloud, interpolation=\"bilinear\")\n",
    "plt.axis(\"off\")\n",
    "plt.show()"
   ]
  }
 ],
 "metadata": {
  "kernelspec": {
   "display_name": "Python 3 (ipykernel)",
   "language": "python",
   "name": "python3"
  },
  "language_info": {
   "codemirror_mode": {
    "name": "ipython",
    "version": 3
   },
   "file_extension": ".py",
   "mimetype": "text/x-python",
   "name": "python",
   "nbconvert_exporter": "python",
   "pygments_lexer": "ipython3",
   "version": "3.7.6"
  },
  "vscode": {
   "interpreter": {
    "hash": "b302cdd1e032ee910f5c889c3360c28564c92ad4f326fc3102e39fbe47faee66"
   }
  }
 },
 "nbformat": 4,
 "nbformat_minor": 2
}
